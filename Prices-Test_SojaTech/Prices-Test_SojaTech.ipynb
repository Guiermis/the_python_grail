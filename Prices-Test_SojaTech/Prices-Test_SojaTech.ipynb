{
 "cells": [
  {
   "cell_type": "code",
   "execution_count": null,
   "id": "260c77a5",
   "metadata": {},
   "outputs": [],
   "source": [
    "import pandas as pd\n",
    "import numpy as np\n",
    "import matplotlib.pyplot as plt\n",
    "from matplotlib import style\n",
    "df = pd.read_excel(r\"C:\\Users\\guilh\\OneDrive\\Documents\\trabaio\\CEPEA_20211117153722.xlsx\")\n",
    "print(df)"
   ]
  },
  {
   "cell_type": "code",
   "execution_count": null,
   "id": "6d0a8746",
   "metadata": {},
   "outputs": [],
   "source": [
    "df['Data'] = pd.to_datetime(df['Data'], infer_datetime_format=True)"
   ]
  },
  {
   "cell_type": "code",
   "execution_count": null,
   "id": "919b4c6a",
   "metadata": {},
   "outputs": [],
   "source": [
    "data_type = df.dtypes\n",
    "print(data_type)"
   ]
  },
  {
   "cell_type": "code",
   "execution_count": null,
   "id": "10185769",
   "metadata": {},
   "outputs": [],
   "source": [
    "# dicionário de dados dos meses\n",
    "month_names = {\n",
    "    1: 'Janeiro',\n",
    "    2: 'Fevereiro',\n",
    "    3: 'Março',\n",
    "    4: 'Abril',\n",
    "    5: 'Maio',\n",
    "    6: 'Junho',\n",
    "    7: 'Julho',\n",
    "    8: 'Agosto',\n",
    "    9: 'Setembro',\n",
    "    10: 'Outubro',\n",
    "    11: 'Novembro',\n",
    "    12: 'Dezembro'\n",
    "}\n",
    "\n",
    "#dados que posteriormente serão inseridos pelo usuário\n",
    "start_year = 2012\n",
    "end_year = 2021\n",
    "month_num = 4  \n",
    "\n",
    "#número do mês para nome do mês\n",
    "month_name = month_names[month_num]\n",
    "\n",
    "#filtro de dados para colocá-los no gráfico\n",
    "filtered_data = df[(df['Data'].dt.year >= start_year) & (df['Data'].dt.year <= end_year) & (df['Data'].dt.month == month_num)]\n",
    "print(filtered_data)"
   ]
  },
  {
   "cell_type": "code",
   "execution_count": null,
   "id": "17d7c9d8",
   "metadata": {},
   "outputs": [],
   "source": [
    "# cria valores numpy para x e y\n",
    "x = np.array(filtered_data['Data'])\n",
    "y1 = np.array(filtered_data['À vista R$'])\n",
    "y2 = np.array(filtered_data['À vista US$'])\n",
    "\n",
    "# cria o gráfico usando o matplotlib\n",
    "fig, ax = plt.subplots()\n",
    "plt.style.use('ggplot')\n",
    "ax.tick_params(axis='x', labelsize=6)\n",
    "\n",
    "# plot dos dados\n",
    "ax.plot(x, y1, label='Preço em Dólar')\n",
    "ax.plot(x, y2, label='Preço em Real')\n",
    "\n",
    "# set plot title and labels\n",
    "ax.set_title(f'Preços em {month_name}')\n",
    "ax.set_xlabel('Data')\n",
    "ax.set_ylabel('Preço')\n",
    "ax.legend()\n",
    "\n",
    "# show plot\n",
    "\n",
    "plt.show()"
   ]
  },
  {
   "cell_type": "code",
   "execution_count": null,
   "id": "f9d002ba",
   "metadata": {},
   "outputs": [],
   "source": []
  }
 ],
 "metadata": {
  "kernelspec": {
   "display_name": "Python 3 (ipykernel)",
   "language": "python",
   "name": "python3"
  },
  "language_info": {
   "codemirror_mode": {
    "name": "ipython",
    "version": 3
   },
   "file_extension": ".py",
   "mimetype": "text/x-python",
   "name": "python",
   "nbconvert_exporter": "python",
   "pygments_lexer": "ipython3",
   "version": "3.10.9"
  }
 },
 "nbformat": 4,
 "nbformat_minor": 5
}
